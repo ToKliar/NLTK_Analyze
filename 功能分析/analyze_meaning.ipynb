{
 "cells": [
  {
   "cell_type": "markdown",
   "source": [
    "通过对句子的语法结构进行分析可以进一步分析句子的含义\n",
    "NLTK通过命题逻辑、一阶逻辑等方式分析自然语言的含义"
   ],
   "metadata": {
    "collapsed": false,
    "pycharm": {
     "name": "#%% md\n"
    }
   }
  },
  {
   "cell_type": "code",
   "execution_count": 1,
   "outputs": [],
   "source": [
    "import nltk"
   ],
   "metadata": {
    "collapsed": false,
    "pycharm": {
     "name": "#%%\n"
    }
   }
  },
  {
   "cell_type": "markdown",
   "source": [
    "对语句含义的理解可以考虑通过语法将其转换为计算机更容易理解的语言\n",
    "NLTK内置了很多文法进行语言的简单翻译\n",
    "如下边的示例 根据NLTK中内置的文法 将自然语言转换为SQL语句"
   ],
   "metadata": {
    "collapsed": false,
    "pycharm": {
     "name": "#%% md\n"
    }
   }
  },
  {
   "cell_type": "code",
   "execution_count": 4,
   "outputs": [
    {
     "name": "stdout",
     "output_type": "stream",
     "text": [
      "SELECT City FROM city_table WHERE Country=\"china\"\n"
     ]
    }
   ],
   "source": [
    "from nltk import load_parser\n",
    "cp = load_parser('grammars/book_grammars/sql0.fcfg')\n",
    "query = 'What cities are located in China'\n",
    "trees = list(cp.parse(query.split()))\n",
    "answer = trees[0].label()['SEM']\n",
    "answer = [s for s in answer if s]\n",
    "q = ' '.join(answer)\n",
    "print(q)"
   ],
   "metadata": {
    "collapsed": false,
    "pycharm": {
     "name": "#%%\n"
    }
   }
  },
  {
   "cell_type": "markdown",
   "source": [
    "NLTK可以将语言用逻辑语言进行表达，通过命题逻辑推理语言的含义\n",
    "NLTK用命题逻辑表示语言结构中和特定句子连接词相对应的部分"
   ],
   "metadata": {
    "collapsed": false,
    "pycharm": {
     "name": "#%% md\n"
    }
   }
  },
  {
   "cell_type": "code",
   "execution_count": 5,
   "outputs": [
    {
     "name": "stdout",
     "output_type": "stream",
     "text": [
      "negation       \t-\n",
      "conjunction    \t&\n",
      "disjunction    \t|\n",
      "implication    \t->\n",
      "equivalence    \t<->\n",
      "None\n"
     ]
    }
   ],
   "source": [
    "# NLTK中命题逻辑的逻辑运算符有五种\n",
    "print(nltk.boolean_ops())"
   ],
   "metadata": {
    "collapsed": false,
    "pycharm": {
     "name": "#%%\n"
    }
   }
  },
  {
   "cell_type": "markdown",
   "source": [
    "NLTK可以将逻辑表达式转换为Expression对象，通过NLTK的推理模块对Expression进行逻辑证明"
   ],
   "metadata": {
    "collapsed": false,
    "pycharm": {
     "name": "#%% md\n"
    }
   }
  },
  {
   "cell_type": "code",
   "execution_count": 10,
   "outputs": [
    {
     "name": "stdout",
     "output_type": "stream",
     "text": [
      "-(P & Q)\n"
     ]
    },
    {
     "ename": "LookupError",
     "evalue": "\n\n===========================================================================\nNLTK was unable to find the prover9 file!\nUse software specific configuration paramaters or set the PROVER9 environment variable.\n\n  Searched in:\n    - /usr/local/bin/prover9\n    - /usr/local/bin/prover9/bin\n    - /usr/local/bin\n    - /usr/bin\n    - /usr/local/prover9\n    - /usr/local/share/prover9\n\n  For more information on prover9, see:\n    <http://www.cs.unm.edu/~mccune/prover9/>\n===========================================================================",
     "output_type": "error",
     "traceback": [
      "\u001B[1;31m---------------------------------------------------------------------------\u001B[0m",
      "\u001B[1;31mLookupError\u001B[0m                               Traceback (most recent call last)",
      "\u001B[1;32m<ipython-input-10-c39a5a228b71>\u001B[0m in \u001B[0;36m<module>\u001B[1;34m()\u001B[0m\n\u001B[0;32m     12\u001B[0m \u001B[0mR\u001B[0m \u001B[1;33m=\u001B[0m \u001B[0mread_expr\u001B[0m\u001B[1;33m(\u001B[0m\u001B[1;34m'SnF -> -FnS'\u001B[0m\u001B[1;33m)\u001B[0m\u001B[1;33m\u001B[0m\u001B[0m\n\u001B[0;32m     13\u001B[0m \u001B[0mprover\u001B[0m \u001B[1;33m=\u001B[0m \u001B[0mProver9\u001B[0m\u001B[1;33m(\u001B[0m\u001B[1;33m)\u001B[0m\u001B[1;33m\u001B[0m\u001B[0m\n\u001B[1;32m---> 14\u001B[1;33m \u001B[0mresult\u001B[0m \u001B[1;33m=\u001B[0m \u001B[0mprover\u001B[0m\u001B[1;33m.\u001B[0m\u001B[0mprove\u001B[0m\u001B[1;33m(\u001B[0m\u001B[0mNotFns\u001B[0m\u001B[1;33m,\u001B[0m \u001B[1;33m[\u001B[0m\u001B[0mSnF\u001B[0m\u001B[1;33m,\u001B[0m \u001B[0mR\u001B[0m\u001B[1;33m]\u001B[0m\u001B[1;33m)\u001B[0m\u001B[1;33m\u001B[0m\u001B[0m\n\u001B[0m\u001B[0;32m     15\u001B[0m \u001B[0mprint\u001B[0m\u001B[1;33m(\u001B[0m\u001B[0mresult\u001B[0m\u001B[1;33m)\u001B[0m\u001B[1;33m\u001B[0m\u001B[0m\n",
      "\u001B[1;32mD:\\Anaconda\\lib\\site-packages\\nltk\\inference\\api.py\u001B[0m in \u001B[0;36mprove\u001B[1;34m(self, goal, assumptions, verbose)\u001B[0m\n\u001B[0;32m     37\u001B[0m         \u001B[1;33m:\u001B[0m\u001B[0mrtype\u001B[0m\u001B[1;33m:\u001B[0m \u001B[0mbool\u001B[0m\u001B[1;33m\u001B[0m\u001B[0m\n\u001B[0;32m     38\u001B[0m         \"\"\"\n\u001B[1;32m---> 39\u001B[1;33m         \u001B[1;32mreturn\u001B[0m \u001B[0mself\u001B[0m\u001B[1;33m.\u001B[0m\u001B[0m_prove\u001B[0m\u001B[1;33m(\u001B[0m\u001B[0mgoal\u001B[0m\u001B[1;33m,\u001B[0m \u001B[0massumptions\u001B[0m\u001B[1;33m,\u001B[0m \u001B[0mverbose\u001B[0m\u001B[1;33m)\u001B[0m\u001B[1;33m[\u001B[0m\u001B[1;36m0\u001B[0m\u001B[1;33m]\u001B[0m\u001B[1;33m\u001B[0m\u001B[0m\n\u001B[0m\u001B[0;32m     40\u001B[0m \u001B[1;33m\u001B[0m\u001B[0m\n\u001B[0;32m     41\u001B[0m     \u001B[1;33m@\u001B[0m\u001B[0mabstractmethod\u001B[0m\u001B[1;33m\u001B[0m\u001B[0m\n",
      "\u001B[1;32mD:\\Anaconda\\lib\\site-packages\\nltk\\inference\\prover9.py\u001B[0m in \u001B[0;36m_prove\u001B[1;34m(self, goal, assumptions, verbose)\u001B[0m\n\u001B[0;32m    270\u001B[0m \u001B[1;33m\u001B[0m\u001B[0m\n\u001B[0;32m    271\u001B[0m         stdout, returncode = self._call_prover9(self.prover9_input(goal, assumptions),\n\u001B[1;32m--> 272\u001B[1;33m                                                 verbose=verbose)\n\u001B[0m\u001B[0;32m    273\u001B[0m         \u001B[1;32mreturn\u001B[0m \u001B[1;33m(\u001B[0m\u001B[0mreturncode\u001B[0m \u001B[1;33m==\u001B[0m \u001B[1;36m0\u001B[0m\u001B[1;33m,\u001B[0m \u001B[0mstdout\u001B[0m\u001B[1;33m)\u001B[0m\u001B[1;33m\u001B[0m\u001B[0m\n\u001B[0;32m    274\u001B[0m \u001B[1;33m\u001B[0m\u001B[0m\n",
      "\u001B[1;32mD:\\Anaconda\\lib\\site-packages\\nltk\\inference\\prover9.py\u001B[0m in \u001B[0;36m_call_prover9\u001B[1;34m(self, input_str, args, verbose)\u001B[0m\n\u001B[0;32m    290\u001B[0m         \"\"\"\n\u001B[0;32m    291\u001B[0m         \u001B[1;32mif\u001B[0m \u001B[0mself\u001B[0m\u001B[1;33m.\u001B[0m\u001B[0m_prover9_bin\u001B[0m \u001B[1;32mis\u001B[0m \u001B[1;32mNone\u001B[0m\u001B[1;33m:\u001B[0m\u001B[1;33m\u001B[0m\u001B[0m\n\u001B[1;32m--> 292\u001B[1;33m             \u001B[0mself\u001B[0m\u001B[1;33m.\u001B[0m\u001B[0m_prover9_bin\u001B[0m \u001B[1;33m=\u001B[0m \u001B[0mself\u001B[0m\u001B[1;33m.\u001B[0m\u001B[0m_find_binary\u001B[0m\u001B[1;33m(\u001B[0m\u001B[1;34m'prover9'\u001B[0m\u001B[1;33m,\u001B[0m \u001B[0mverbose\u001B[0m\u001B[1;33m)\u001B[0m\u001B[1;33m\u001B[0m\u001B[0m\n\u001B[0m\u001B[0;32m    293\u001B[0m \u001B[1;33m\u001B[0m\u001B[0m\n\u001B[0;32m    294\u001B[0m         \u001B[0mupdated_input_str\u001B[0m \u001B[1;33m=\u001B[0m \u001B[1;34m''\u001B[0m\u001B[1;33m\u001B[0m\u001B[0m\n",
      "\u001B[1;32mD:\\Anaconda\\lib\\site-packages\\nltk\\inference\\prover9.py\u001B[0m in \u001B[0;36m_find_binary\u001B[1;34m(self, name, verbose)\u001B[0m\n\u001B[0;32m    164\u001B[0m             \u001B[0murl\u001B[0m\u001B[1;33m=\u001B[0m\u001B[1;34m'http://www.cs.unm.edu/~mccune/prover9/'\u001B[0m\u001B[1;33m,\u001B[0m\u001B[1;33m\u001B[0m\u001B[0m\n\u001B[0;32m    165\u001B[0m             \u001B[0mbinary_names\u001B[0m\u001B[1;33m=\u001B[0m\u001B[1;33m[\u001B[0m\u001B[0mname\u001B[0m\u001B[1;33m,\u001B[0m \u001B[0mname\u001B[0m \u001B[1;33m+\u001B[0m \u001B[1;34m'.exe'\u001B[0m\u001B[1;33m]\u001B[0m\u001B[1;33m,\u001B[0m\u001B[1;33m\u001B[0m\u001B[0m\n\u001B[1;32m--> 166\u001B[1;33m             verbose=verbose)\n\u001B[0m\u001B[0;32m    167\u001B[0m \u001B[1;33m\u001B[0m\u001B[0m\n\u001B[0;32m    168\u001B[0m     \u001B[1;32mdef\u001B[0m \u001B[0m_call\u001B[0m\u001B[1;33m(\u001B[0m\u001B[0mself\u001B[0m\u001B[1;33m,\u001B[0m \u001B[0minput_str\u001B[0m\u001B[1;33m,\u001B[0m \u001B[0mbinary\u001B[0m\u001B[1;33m,\u001B[0m \u001B[0margs\u001B[0m\u001B[1;33m=\u001B[0m\u001B[1;33m[\u001B[0m\u001B[1;33m]\u001B[0m\u001B[1;33m,\u001B[0m \u001B[0mverbose\u001B[0m\u001B[1;33m=\u001B[0m\u001B[1;32mFalse\u001B[0m\u001B[1;33m)\u001B[0m\u001B[1;33m:\u001B[0m\u001B[1;33m\u001B[0m\u001B[0m\n",
      "\u001B[1;32mD:\\Anaconda\\lib\\site-packages\\nltk\\__init__.py\u001B[0m in \u001B[0;36mfind_binary\u001B[1;34m(name, path_to_bin, env_vars, searchpath, binary_names, url, verbose)\u001B[0m\n\u001B[0;32m    602\u001B[0m                 binary_names=None, url=None, verbose=False):\n\u001B[0;32m    603\u001B[0m     return next(find_binary_iter(name, path_to_bin, env_vars, searchpath,\n\u001B[1;32m--> 604\u001B[1;33m                                  binary_names, url, verbose))\n\u001B[0m\u001B[0;32m    605\u001B[0m \u001B[1;33m\u001B[0m\u001B[0m\n\u001B[0;32m    606\u001B[0m def find_jar_iter(name_pattern, path_to_jar=None, env_vars=(),\n",
      "\u001B[1;32mD:\\Anaconda\\lib\\site-packages\\nltk\\__init__.py\u001B[0m in \u001B[0;36mfind_binary_iter\u001B[1;34m(name, path_to_bin, env_vars, searchpath, binary_names, url, verbose)\u001B[0m\n\u001B[0;32m    596\u001B[0m     \"\"\"\n\u001B[0;32m    597\u001B[0m     for file in  find_file_iter(path_to_bin or name, env_vars, searchpath, binary_names,\n\u001B[1;32m--> 598\u001B[1;33m                      url, verbose):\n\u001B[0m\u001B[0;32m    599\u001B[0m         \u001B[1;32myield\u001B[0m \u001B[0mfile\u001B[0m\u001B[1;33m\u001B[0m\u001B[0m\n\u001B[0;32m    600\u001B[0m \u001B[1;33m\u001B[0m\u001B[0m\n",
      "\u001B[1;32mD:\\Anaconda\\lib\\site-packages\\nltk\\__init__.py\u001B[0m in \u001B[0;36mfind_file_iter\u001B[1;34m(filename, env_vars, searchpath, file_names, url, verbose, finding_dir)\u001B[0m\n\u001B[0;32m    567\u001B[0m                         (filename, url))\n\u001B[0;32m    568\u001B[0m         \u001B[0mdiv\u001B[0m \u001B[1;33m=\u001B[0m \u001B[1;34m'='\u001B[0m\u001B[1;33m*\u001B[0m\u001B[1;36m75\u001B[0m\u001B[1;33m\u001B[0m\u001B[0m\n\u001B[1;32m--> 569\u001B[1;33m         \u001B[1;32mraise\u001B[0m \u001B[0mLookupError\u001B[0m\u001B[1;33m(\u001B[0m\u001B[1;34m'\\n\\n%s\\n%s\\n%s'\u001B[0m \u001B[1;33m%\u001B[0m \u001B[1;33m(\u001B[0m\u001B[0mdiv\u001B[0m\u001B[1;33m,\u001B[0m \u001B[0mmsg\u001B[0m\u001B[1;33m,\u001B[0m \u001B[0mdiv\u001B[0m\u001B[1;33m)\u001B[0m\u001B[1;33m)\u001B[0m\u001B[1;33m\u001B[0m\u001B[0m\n\u001B[0m\u001B[0;32m    570\u001B[0m \u001B[1;33m\u001B[0m\u001B[0m\n\u001B[0;32m    571\u001B[0m \u001B[1;33m\u001B[0m\u001B[0m\n",
      "\u001B[1;31mLookupError\u001B[0m: \n\n===========================================================================\nNLTK was unable to find the prover9 file!\nUse software specific configuration paramaters or set the PROVER9 environment variable.\n\n  Searched in:\n    - /usr/local/bin/prover9\n    - /usr/local/bin/prover9/bin\n    - /usr/local/bin\n    - /usr/bin\n    - /usr/local/prover9\n    - /usr/local/share/prover9\n\n  For more information on prover9, see:\n    <http://www.cs.unm.edu/~mccune/prover9/>\n==========================================================================="
     ]
    }
   ],
   "source": [
    "from nltk.inference import Prover9\n",
    "\n",
    "# nltk中的Expression对象能够将逻辑表达式，处理成Expression的子类。\n",
    "read_expr = nltk.sem.Expression.fromstring\n",
    "result = read_expr('-(P & Q)')\n",
    "print(result)\n",
    "\n",
    "# 逻辑证明通过nltk的推理模块进行。例如通过第三方定理证明程序prover9的接口。\n",
    "# 并且推理机制的输入必须首先转换为逻辑表达式\n",
    "SnF = read_expr('SnF')\n",
    "NotFns = read_expr('-FnS')\n",
    "R = read_expr('SnF -> -FnS')\n",
    "prover = Prover9()\n",
    "result = prover.prove(NotFns, [SnF, R])\n",
    "print(result)"
   ],
   "metadata": {
    "collapsed": false,
    "pycharm": {
     "name": "#%%\n"
    }
   }
  },
  {
   "cell_type": "markdown",
   "source": [
    "NLTK还可以通过Valuation对象来确定逻辑表达式的真值"
   ],
   "metadata": {
    "collapsed": false,
    "pycharm": {
     "name": "#%% md\n"
    }
   }
  },
  {
   "cell_type": "code",
   "execution_count": 12,
   "outputs": [
    {
     "name": "stdout",
     "output_type": "stream",
     "text": [
      "True\n"
     ]
    }
   ],
   "source": [
    "# Valuation ：从逻辑的基本符号映射到他们的值。\n",
    "val = nltk.Valuation([('P', True), ('Q', True), ('R', False)])\n",
    "dom = set()\n",
    "g = nltk.Assignment(dom)\n",
    "# 用val初始化模型m\n",
    "m = nltk.Model(dom, val)\n",
    "# 使用evaluate()可确定逻辑表达式的真值情况\n",
    "result = m.evaluate('(P & Q)', g)\n",
    "print(result)"
   ],
   "metadata": {
    "collapsed": false,
    "pycharm": {
     "name": "#%%\n"
    }
   }
  },
  {
   "cell_type": "markdown",
   "source": [
    "NLTK可以通过将自然语言表达式转换为一阶逻辑来表达语句的含义\n",
    "一阶逻辑保留命题逻辑的所有布尔运算，将识别命题中的谓词和参数进行分析\n",
    "一阶逻辑表达式的语法结构通常是为表达式分配类型：实体类型和公式类型\n",
    "一阶逻辑也可以通过Prover9进行逻辑证明\n",
    "以下是代码示例"
   ],
   "metadata": {
    "collapsed": false,
    "pycharm": {
     "name": "#%% md\n"
    }
   }
  },
  {
   "cell_type": "code",
   "execution_count": 14,
   "outputs": [
    {
     "name": "stdout",
     "output_type": "stream",
     "text": [
      "angus\n",
      "e\n",
      "walk\n",
      "<e,?>\n"
     ]
    }
   ],
   "source": [
    "read_expr = nltk.sem.Expression.fromstring\n",
    "expr = read_expr('walk(angus)', type_check=True)\n",
    "print(expr.argument)           # 参数\n",
    "print(expr.argument.type)      # 实体类型\n",
    "print(expr.function)           # 谓词\n",
    "print(expr.function.type)      # 公式类型\n",
    "\n",
    "# 对一阶逻辑进行逻辑证明\n",
    "NotFnS = read_expr('-north_of(f, s)')\n",
    "SnF = read_expr('north_of(s, f)')\n",
    "R = read_expr('all x. all y. (north_of(x, y) -> -north_of(y, x))')\n",
    "prover = nltk.Prover9()\n",
    "prover.prove(NotFnS, [SnF, R]) # True"
   ],
   "metadata": {
    "collapsed": false,
    "pycharm": {
     "name": "#%%\n"
    }
   }
  },
  {
   "cell_type": "code",
   "execution_count": 15,
   "outputs": [
    {
     "name": "stdout",
     "output_type": "stream",
     "text": [
      "{'bertie': 'b',\n",
      " 'boy': {('b',)},\n",
      " 'cyril': 'c',\n",
      " 'dog': {('c',)},\n",
      " 'girl': {('o',)},\n",
      " 'olive': 'o',\n",
      " 'see': {('o', 'c'), ('b', 'o'), ('c', 'b')},\n",
      " 'walk': {('o',), ('c',)}}\n"
     ]
    }
   ],
   "source": [
    "v = \"\"\"\n",
    "    bertie => b\n",
    "    olive => o\n",
    "    cyril => c\n",
    "    boy => {b}\n",
    "    girl => {o}\n",
    "    dog => {c}\n",
    "    walk => {o, c}\n",
    "    see => {(b, o), (c, b), (o, c)}\n",
    "    \"\"\"\n",
    "val = nltk.Valuation.fromstring(v)\n",
    "print(val)"
   ],
   "metadata": {
    "collapsed": false,
    "pycharm": {
     "name": "#%%\n"
    }
   }
  },
  {
   "cell_type": "code",
   "execution_count": null,
   "outputs": [],
   "source": [],
   "metadata": {
    "collapsed": false,
    "pycharm": {
     "name": "#%%\n"
    }
   }
  }
 ],
 "metadata": {
  "kernelspec": {
   "display_name": "Python 3",
   "language": "python",
   "name": "python3"
  },
  "language_info": {
   "codemirror_mode": {
    "name": "ipython",
    "version": 2
   },
   "file_extension": ".py",
   "mimetype": "text/x-python",
   "name": "python",
   "nbconvert_exporter": "python",
   "pygments_lexer": "ipython2",
   "version": "2.7.6"
  }
 },
 "nbformat": 4,
 "nbformat_minor": 0
}