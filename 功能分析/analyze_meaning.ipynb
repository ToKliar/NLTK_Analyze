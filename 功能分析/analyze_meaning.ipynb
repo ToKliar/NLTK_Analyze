{
 "cells": [
  {
   "cell_type": "markdown",
   "metadata": {
    "pycharm": {
     "name": "#%% md\n"
    }
   },
   "source": [
    "通过对句子的语法结构进行分析可以进一步分析句子的含义\n",
    "NLTK通过命题逻辑、一阶逻辑等方式分析自然语言的含义"
   ]
  },
  {
   "cell_type": "code",
   "execution_count": 1,
   "metadata": {
    "pycharm": {
     "name": "#%%\n"
    }
   },
   "outputs": [],
   "source": [
    "import nltk"
   ]
  },
  {
   "cell_type": "markdown",
   "metadata": {
    "pycharm": {
     "name": "#%% md\n"
    }
   },
   "source": [
    "对语句含义的理解可以考虑通过语法将其转换为计算机更容易理解的语言\n",
    "NLTK内置了很多文法进行语言的简单翻译\n",
    "如下边的示例 根据NLTK中内置的文法 将自然语言转换为SQL语句"
   ]
  },
  {
   "cell_type": "code",
   "execution_count": 3,
   "metadata": {
    "pycharm": {
     "name": "#%%\n"
    }
   },
   "outputs": [
    {
     "name": "stdout",
     "output_type": "stream",
     "text": [
      "SELECT City FROM city_table WHERE Country=\"china\"\n"
     ]
    }
   ],
   "source": [
    "from nltk import load_parser\n",
    "cp = load_parser('grammars/book_grammars/sql0.fcfg')\n",
    "query = 'What cities are located in China'\n",
    "trees = list(cp.parse(query.split()))\n",
    "answer = trees[0].label()['SEM']\n",
    "answer = [s for s in answer if s]\n",
    "q = ' '.join(answer)\n",
    "print(q)"
   ]
  },
  {
   "cell_type": "markdown",
   "metadata": {
    "pycharm": {
     "name": "#%% md\n"
    }
   },
   "source": [
    "NLTK可以将语言用逻辑语言进行表达，通过命题逻辑推理语言的含义\n",
    "NLTK用命题逻辑表示语言结构中和特定句子连接词相对应的部分"
   ]
  },
  {
   "cell_type": "code",
   "execution_count": 4,
   "metadata": {
    "pycharm": {
     "name": "#%%\n"
    }
   },
   "outputs": [
    {
     "name": "stdout",
     "output_type": "stream",
     "text": [
      "negation       \t-\n",
      "conjunction    \t&\n",
      "disjunction    \t|\n",
      "implication    \t->\n",
      "equivalence    \t<->\n",
      "None\n"
     ]
    }
   ],
   "source": [
    "# NLTK中命题逻辑的逻辑运算符有五种\n",
    "print(nltk.boolean_ops())"
   ]
  },
  {
   "cell_type": "markdown",
   "metadata": {
    "pycharm": {
     "name": "#%% md\n"
    }
   },
   "source": [
    "NLTK可以将逻辑表达式转换为Expression对象，通过NLTK的推理模块对Expression进行逻辑证明"
   ]
  },
  {
   "cell_type": "code",
   "execution_count": 6,
   "metadata": {
    "pycharm": {
     "name": "#%%\n"
    }
   },
   "outputs": [
    {
     "name": "stdout",
     "output_type": "stream",
     "text": [
      "-(P & Q)\n"
     ]
    }
   ],
   "source": [
    "from nltk.inference import Prover9\n",
    "\n",
    "# nltk中的Expression对象能够将逻辑表达式，处理成Expression的子类。\n",
    "read_expr = nltk.sem.Expression.fromstring\n",
    "result = read_expr('-(P & Q)')\n",
    "print(result)\n",
    "\n",
    "# 逻辑证明通过nltk的推理模块进行。例如通过第三方定理证明程序prover9的接口。\n",
    "# 并且推理机制的输入必须首先转换为逻辑表达式\n",
    "# 这里因为Prover9安装困难就不演示了\n",
    "SnF = read_expr('SnF')\n",
    "NotFns = read_expr('-FnS')\n",
    "R = read_expr('SnF -> -FnS')\n",
    "# prover = Prover9()\n",
    "# result = prover.prove(NotFns, [SnF, R])\n",
    "# print(result) True"
   ]
  },
  {
   "cell_type": "markdown",
   "metadata": {
    "pycharm": {
     "name": "#%% md\n"
    }
   },
   "source": [
    "NLTK还可以通过Valuation对象来确定逻辑表达式的真值"
   ]
  },
  {
   "cell_type": "code",
   "execution_count": 7,
   "metadata": {
    "pycharm": {
     "name": "#%%\n"
    }
   },
   "outputs": [
    {
     "name": "stdout",
     "output_type": "stream",
     "text": [
      "True\n"
     ]
    }
   ],
   "source": [
    "# Valuation ：从逻辑的基本符号映射到他们的值。\n",
    "val = nltk.Valuation([('P', True), ('Q', True), ('R', False)])\n",
    "dom = set()\n",
    "g = nltk.Assignment(dom)\n",
    "# 用val初始化模型m\n",
    "m = nltk.Model(dom, val)\n",
    "# 使用evaluate()可确定逻辑表达式的真值情况\n",
    "result = m.evaluate('(P & Q)', g)\n",
    "print(result)"
   ]
  },
  {
   "cell_type": "markdown",
   "metadata": {
    "pycharm": {
     "name": "#%% md\n"
    }
   },
   "source": [
    "NLTK可以通过将自然语言表达式转换为一阶逻辑来表达语句的含义\n",
    "一阶逻辑保留命题逻辑的所有布尔运算，将识别命题中的谓词和参数进行分析\n",
    "一阶逻辑表达式的语法结构通常是为表达式分配类型：实体类型和公式类型\n",
    "一阶逻辑也可以通过Prover9进行逻辑证明\n",
    "以下是代码示例"
   ]
  },
  {
   "cell_type": "code",
   "execution_count": 8,
   "metadata": {
    "pycharm": {
     "name": "#%%\n"
    }
   },
   "outputs": [
    {
     "name": "stdout",
     "output_type": "stream",
     "text": [
      "angus\n",
      "e\n",
      "walk\n",
      "<e,?>\n"
     ]
    }
   ],
   "source": [
    "read_expr = nltk.sem.Expression.fromstring\n",
    "expr = read_expr('walk(angus)', type_check=True)\n",
    "print(expr.argument)           # 参数\n",
    "print(expr.argument.type)      # 实体类型\n",
    "print(expr.function)           # 谓词\n",
    "print(expr.function.type)      # 公式类型\n",
    "\n",
    "# 对一阶逻辑进行逻辑证明\n",
    "NotFnS = read_expr('-north_of(f, s)')\n",
    "SnF = read_expr('north_of(s, f)')\n",
    "R = read_expr('all x. all y. (north_of(x, y) -> -north_of(y, x))')\n",
    "# prover = nltk.Prover9()\n",
    "# prover.prove(NotFnS, [SnF, R]) # True"
   ]
  },
  {
   "cell_type": "code",
   "execution_count": 9,
   "metadata": {
    "pycharm": {
     "name": "#%%\n"
    }
   },
   "outputs": [
    {
     "name": "stdout",
     "output_type": "stream",
     "text": [
      "{'bertie': 'b',\n",
      " 'boy': {('b',)},\n",
      " 'cyril': 'c',\n",
      " 'dog': {('c',)},\n",
      " 'girl': {('o',)},\n",
      " 'olive': 'o',\n",
      " 'see': {('o', 'c'), ('c', 'b'), ('b', 'o')},\n",
      " 'walk': {('c',), ('o',)}}\n"
     ]
    }
   ],
   "source": [
    "v = \"\"\"\n",
    "    bertie => b\n",
    "    olive => o\n",
    "    cyril => c\n",
    "    boy => {b}\n",
    "    girl => {o}\n",
    "    dog => {c}\n",
    "    walk => {o, c}\n",
    "    see => {(b, o), (c, b), (o, c)}\n",
    "    \"\"\"\n",
    "val = nltk.Valuation.fromstring(v)\n",
    "print(val)"
   ]
  },
  {
   "cell_type": "markdown",
   "metadata": {},
   "source": [
    "NLTK支持为独立变量赋值，通过Assignment函数将变量和值绑定，并通过evaluate方式计算原子公式的估值"
   ]
  },
  {
   "cell_type": "code",
   "execution_count": 10,
   "metadata": {
    "pycharm": {
     "name": "#%%\n"
    }
   },
   "outputs": [
    {
     "name": "stdout",
     "output_type": "stream",
     "text": [
      "g[c/y][o/x]\n",
      "True\n",
      "False\n"
     ]
    }
   ],
   "source": [
    "dom = {'b', 'o', 'c'}\n",
    "g = nltk.Assignment(dom, [('x', 'o'), ('y', 'c')])\n",
    "print(g)  \n",
    "v = \"\"\"\n",
    "        bertie => b\n",
    "        olive => o\n",
    "        cyril => c\n",
    "        boy => {b}\n",
    "        girl => {o}\n",
    "        dog => {c}\n",
    "        walk => {o, c}\n",
    "        see => {(b, o), (c, b), (o, c)}\n",
    "        \"\"\"\n",
    "val = nltk.Valuation.fromstring(v)\n",
    "# 创建模型\n",
    "m = nltk.Model(dom, val)\n",
    "# 计算真值\n",
    "true_value = m.evaluate('see(olive, y)', g)\n",
    "print(true_value)  # True\n",
    "\n",
    "true_value = m.evaluate('see(y,x)', g)\n",
    "print(true_value)    # False"
   ]
  },
  {
   "cell_type": "markdown",
   "metadata": {},
   "source": [
    "NLTK中的Expression对象提供了satisfiers方法，返回满足公式的所有个体的合集，可以判断某个集合内的变量中满足公式成立条件的变量有哪些"
   ]
  },
  {
   "cell_type": "code",
   "execution_count": 11,
   "metadata": {},
   "outputs": [
    {
     "name": "stdout",
     "output_type": "stream",
     "text": [
      "{'o', 'b'}\n",
      "{'o', 'b', 'c'}\n",
      "True\n"
     ]
    }
   ],
   "source": [
    "dom = {'b', 'o', 'c'}\n",
    "g = nltk.Assignment(dom, [('x', 'o'), ('y', 'c')])\n",
    "read_expr = nltk.sem.Expression.fromstring\n",
    "fmla = read_expr('girl(x)|boy(x)')\n",
    "result = m.satisfiers(fmla, 'x', g)\n",
    "print(result)   # {'b', 'o'}\n",
    "\n",
    "# A->B可以等价于-A|B\n",
    "fmla = read_expr('girl(x)->walk(x)')\n",
    "result = m.satisfiers(fmla, 'x', g)\n",
    "print(result)   # {'c', 'o', 'b'}\n",
    "\n",
    "# 全称量化公式。判断g中是否所有成员都满足\n",
    "result = m.evaluate('all x.(girl(x) -> walk(x))', g)\n",
    "print(result)  # True\n"
   ]
  },
  {
   "cell_type": "markdown",
   "metadata": {},
   "source": [
    "基于上述对象和方法，NLTK就可以通过一阶逻辑对句子进行语义分析，如判断某个句子是否有歧义"
   ]
  },
  {
   "cell_type": "code",
   "execution_count": 12,
   "metadata": {},
   "outputs": [
    {
     "name": "stdout",
     "output_type": "stream",
     "text": [
      "{'m', 'e', 'b', 'j'}\n",
      "set()\n"
     ]
    }
   ],
   "source": [
    "v = \"\"\"\n",
    "    bruce => b\n",
    "    elspeth => e\n",
    "    julia => j\n",
    "    matthew => m\n",
    "    person => {b, e, j, m}\n",
    "    admire => {(j, b), (b, b), (m, e), (e, m)}\n",
    "    \"\"\"\n",
    "val = nltk.Valuation.fromstring(v)\n",
    "\n",
    "read_expr = nltk.sem.Expression.fromstring\n",
    "dom = val.domain\n",
    "m = nltk.Model(dom, val)\n",
    "g = nltk.Assignment(dom)\n",
    "fmla = read_expr('(person(x) -> exists y.(person(y) & admire(x, y)))')\n",
    "result = m.satisfiers(fmla, 'x', g)\n",
    "print(result)   # {'e', 'j', 'm', 'b'}\n",
    "\n",
    "fmla = read_expr('(person(y) & all x.(person(x) -> admire(x, y)))')\n",
    "result = m.satisfiers(fmla,'y',g)\n",
    "print(result) "
   ]
  }
 ],
 "metadata": {
  "kernelspec": {
   "display_name": "Python 3 (ipykernel)",
   "language": "python",
   "name": "python3"
  },
  "language_info": {
   "codemirror_mode": {
    "name": "ipython",
    "version": 3
   },
   "file_extension": ".py",
   "mimetype": "text/x-python",
   "name": "python",
   "nbconvert_exporter": "python",
   "pygments_lexer": "ipython3",
   "version": "3.8.13"
  },
  "vscode": {
   "interpreter": {
    "hash": "88279d2366fe020547cde40dd65aa0e3aa662a6ec1f3ca12d88834876c85e1a6"
   }
  }
 },
 "nbformat": 4,
 "nbformat_minor": 1
}
