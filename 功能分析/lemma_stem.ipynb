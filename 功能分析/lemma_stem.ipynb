{
 "cells": [
  {
   "cell_type": "markdown",
   "metadata": {},
   "source": [
    "词性还原是基于词典，将单词的复杂形态转变为最基础的形态   \n",
    "NLTK采用的词典是WordNet"
   ]
  },
  {
   "cell_type": "code",
   "execution_count": 1,
   "metadata": {},
   "outputs": [
    {
     "name": "stdout",
     "output_type": "stream",
     "text": [
      "cars--n-->car\n",
      "men--n-->men\n",
      "running--v-->run\n",
      "ate--v-->eat\n",
      "saddest--a-->sad\n",
      "fancier--a-->fancy\n"
     ]
    }
   ],
   "source": [
    "import nltk\n",
    "from nltk.stem import WordNetLemmatizer\n",
    "\n",
    "lemmatizer = WordNetLemmatizer()\n",
    "words = ['cars','men','running','ate','saddest','fancier']\n",
    "pos_tags = ['n','n','v','v','a','a'] # 对应的词性\n",
    " \n",
    "for i in range(len(words)):\n",
    "    print(words[i]+'--'+pos_tags[i]+'-->' + lemmatizer.lemmatize(words[i],pos_tags[i]))"
   ]
  },
  {
   "cell_type": "markdown",
   "metadata": {},
   "source": [
    "词干提取则是去除词语的词缀，获得词根  \n",
    "NLTK根据不同的词干提取算法，实现了不同的Stemmer，通过示例展示其用法，比较词干提取的结果：\n",
    "+ ARLSTem 阿拉伯语词干提取\n",
    "+ ARLSTem2 阿拉伯语词干提取\n",
    "+ Cistem 德语词干提取\n",
    "+ ISRIStemmer 基于ISRI阿拉伯语词干分析器的词干提取算法\n",
    "+ LancasterStemmer Lancaster算法 英文词干提取\n",
    "+ PorterStemmer Porter算法 英文词干提取\n",
    "+ RegexpStemmer 正则表达式来识别词语的词缀\n",
    "+ RSLPStemmer 葡萄牙语词干提取\n",
    "+ SnowballStemmer Snowball算法 支持多国语言\n",
    "\n",
    "下面的示例只展示英文词干提取"
   ]
  },
  {
   "cell_type": "code",
   "execution_count": 3,
   "metadata": {},
   "outputs": [
    {
     "name": "stdout",
     "output_type": "stream",
     "text": [
      "Lancaster: bef\n",
      "Porter: befor\n",
      "Snowball: befor\n"
     ]
    }
   ],
   "source": [
    "from nltk.stem import *\n",
    "word = 'before'\n",
    "print('Lancaster:', LancasterStemmer().stem(word))\n",
    "print('Porter:', PorterStemmer().stem(word))\n",
    "print('Snowball:', SnowballStemmer('english').stem(word))"
   ]
  },
  {
   "cell_type": "code",
   "execution_count": 5,
   "metadata": {},
   "outputs": [
    {
     "name": "stdout",
     "output_type": "stream",
     "text": [
      "car\n",
      "mas\n"
     ]
    }
   ],
   "source": [
    "# 正则表达式匹配，比较死板\n",
    "st = RegexpStemmer('ing$|s$|e$|able$', min=4)\n",
    "print(st.stem('cars'))\n",
    "print(st.stem('mass'))\n"
   ]
  }
 ],
 "metadata": {
  "kernelspec": {
   "display_name": "Python 3.7.0 64-bit ('Anaconda')",
   "language": "python",
   "name": "python3"
  },
  "language_info": {
   "codemirror_mode": {
    "name": "ipython",
    "version": 3
   },
   "file_extension": ".py",
   "mimetype": "text/x-python",
   "name": "python",
   "nbconvert_exporter": "python",
   "pygments_lexer": "ipython3",
   "version": "3.7.0"
  },
  "orig_nbformat": 4,
  "vscode": {
   "interpreter": {
    "hash": "88279d2366fe020547cde40dd65aa0e3aa662a6ec1f3ca12d88834876c85e1a6"
   }
  }
 },
 "nbformat": 4,
 "nbformat_minor": 2
}
