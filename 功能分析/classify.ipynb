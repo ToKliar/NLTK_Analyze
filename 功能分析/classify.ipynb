{
 "cells": [
  {
   "cell_type": "markdown",
   "source": [
    "这部分介绍NLTK中用于文本分类的分类器"
   ],
   "metadata": {
    "collapsed": false,
    "pycharm": {
     "name": "#%% md\n"
    }
   }
  },
  {
   "cell_type": "markdown",
   "source": [
    "接下来是使用NLTK进行文本分类的简单示例"
   ],
   "metadata": {
    "collapsed": false,
    "pycharm": {
     "name": "#%% md\n"
    }
   }
  },
  {
   "cell_type": "code",
   "execution_count": 2,
   "outputs": [],
   "source": [
    "import random\n",
    "import nltk\n",
    "from nltk.corpus import movie_reviews\n",
    "documents = [(list(movie_reviews.words(fileid)), category)\n",
    "              for category in movie_reviews.categories()\n",
    "              for fileid in movie_reviews.fileids(category)]\n",
    "random.shuffle(documents) # 读取文本并打乱，减小过拟合，让训练集和测试集的分布相近"
   ],
   "metadata": {
    "collapsed": false,
    "pycharm": {
     "name": "#%%\n"
    }
   }
  },
  {
   "cell_type": "code",
   "execution_count": 3,
   "outputs": [],
   "source": [
    "all_words = nltk.FreqDist(w.lower() for w in movie_reviews.words())\n",
    "word_features = list(all_words)[:2000]\n",
    "\n",
    "def document_features(document):\n",
    "    \"\"\"特征工程\"\"\"\n",
    "    document_words = set(document)\n",
    "    features = {}\n",
    "    for word in word_features:\n",
    "        features['contains({})'.format(word)] = (word in document_words)\n",
    "    return features"
   ],
   "metadata": {
    "collapsed": false,
    "pycharm": {
     "name": "#%%\n"
    }
   }
  },
  {
   "cell_type": "code",
   "execution_count": 11,
   "outputs": [],
   "source": [
    "featuresets = [(document_features(d), c) for (d,c) in documents] # 注意NLTK特征集的形式为（feature dict, label）\n",
    "train_set, test_set = featuresets[100:], featuresets[:100]\n",
    "# 使用朴素贝叶斯算法进行分类\n",
    "classifier = nltk.NaiveBayesClassifier.train(train_set)"
   ],
   "metadata": {
    "collapsed": false,
    "pycharm": {
     "name": "#%%\n"
    }
   }
  },
  {
   "cell_type": "markdown",
   "source": [
    "NLTK中提供了多种度量指标来对分类器的分类结果进行度量"
   ],
   "metadata": {
    "collapsed": false,
    "pycharm": {
     "name": "#%% md\n"
    }
   }
  },
  {
   "cell_type": "code",
   "execution_count": 17,
   "outputs": [],
   "source": [
    "test_labels = [label for (_, label) in test_set]\n",
    "test_features = [feature for (feature, _) in test_set]\n",
    "test_predict = [classifier.classify(test_feature) for test_feature in test_features]"
   ],
   "metadata": {
    "collapsed": false,
    "pycharm": {
     "name": "#%%\n"
    }
   }
  },
  {
   "cell_type": "code",
   "execution_count": 21,
   "outputs": [
    {
     "name": "stdout",
     "output_type": "stream",
     "text": [
      "accuracy: 0.78\n",
      "    |  n  p |\n",
      "    |  e  o |\n",
      "    |  g  s |\n",
      "----+-------+\n",
      "neg |<39>13 |\n",
      "pos |  9<39>|\n",
      "----+-------+\n",
      "(row = reference; col = test)\n",
      "\n",
      "Most Informative Features\n",
      "       contains(miscast) = True              neg : pos    =      8.2 : 1.0\n",
      " contains(unimaginative) = True              neg : pos    =      7.6 : 1.0\n",
      "        contains(shoddy) = True              neg : pos    =      7.0 : 1.0\n",
      "        contains(sexist) = True              neg : pos    =      7.0 : 1.0\n",
      "     contains(atrocious) = True              neg : pos    =      7.0 : 1.0\n"
     ]
    }
   ],
   "source": [
    "print(\"accuracy:\", nltk.classify.accuracy(classifier, test_set)) # 查看测试集上的准确率\n",
    "print(nltk.ConfusionMatrix(test_predict, test_labels)) # 混淆矩阵\n",
    "classifier.show_most_informative_features(5) # 最有效的五个特征"
   ],
   "metadata": {
    "collapsed": false,
    "pycharm": {
     "name": "#%%\n"
    }
   }
  },
  {
   "cell_type": "markdown",
   "source": [
    "NLTK提供了决策树、朴素贝叶斯、最大熵分类器三种经典的机器学习中的分类器"
   ],
   "metadata": {
    "collapsed": false,
    "pycharm": {
     "name": "#%% md\n"
    }
   }
  },
  {
   "cell_type": "code",
   "execution_count": 22,
   "outputs": [
    {
     "name": "stdout",
     "output_type": "stream",
     "text": [
      "decision tree accuracy: 0.6\n"
     ]
    }
   ],
   "source": [
    "decision_tree_classifier = nltk.classify.decisiontree.DecisionTreeClassifier.train(train_set) # 决策树\n",
    "print(\"decision tree accuracy:\", nltk.classify.accuracy(decision_tree_classifier, test_set)) # 查看测试集上的准确率"
   ],
   "metadata": {
    "collapsed": false,
    "pycharm": {
     "name": "#%%\n"
    }
   }
  },
  {
   "cell_type": "code",
   "execution_count": 24,
   "outputs": [
    {
     "name": "stdout",
     "output_type": "stream",
     "text": [
      "  ==> Training (100 iterations)\n",
      "\n",
      "      Iteration    Log Likelihood    Accuracy\n",
      "      ---------------------------------------\n",
      "             1          -0.69315        0.499\n"
     ]
    },
    {
     "name": "stderr",
     "output_type": "stream",
     "text": [
      "D:\\Anaconda\\lib\\site-packages\\nltk\\classify\\maxent.py:1328: RuntimeWarning: overflow encountered in power\n",
      "  exp_nf_delta = 2 ** nf_delta\n",
      "D:\\Anaconda\\lib\\site-packages\\nltk\\classify\\maxent.py:1330: RuntimeWarning: invalid value encountered in multiply\n",
      "  sum1 = numpy.sum(exp_nf_delta * A, axis=0)\n",
      "D:\\Anaconda\\lib\\site-packages\\nltk\\classify\\maxent.py:1331: RuntimeWarning: invalid value encountered in multiply\n",
      "  sum2 = numpy.sum(nf_exp_nf_delta * A, axis=0)\n",
      "D:\\Anaconda\\lib\\site-packages\\nltk\\classify\\maxent.py:1338: RuntimeWarning: invalid value encountered in true_divide\n",
      "  deltas -= (ffreq_empirical - sum1) / -sum2\n"
     ]
    },
    {
     "name": "stdout",
     "output_type": "stream",
     "text": [
      "         Final               nan        0.499\n",
      "max entropy accuracy: 0.52\n"
     ]
    }
   ],
   "source": [
    "max_entropy_classifier = nltk.classify.maxent.MaxentClassifier.train(train_set) # 决策树\n",
    "print(\"max entropy accuracy:\", nltk.classify.accuracy(max_entropy_classifier, test_set)) # 查看测试集上的准确率"
   ],
   "metadata": {
    "collapsed": false,
    "pycharm": {
     "name": "#%%\n"
    }
   }
  },
  {
   "cell_type": "markdown",
   "source": [
    "Scikit-Learn库是Python中的机器学习库，提供了大量的机器学习算法，NLTK中可以通过Sklearn使用sklearn模块的分类器"
   ],
   "metadata": {
    "collapsed": false,
    "pycharm": {
     "name": "#%% md\n"
    }
   }
  },
  {
   "cell_type": "code",
   "execution_count": 25,
   "outputs": [
    {
     "name": "stdout",
     "output_type": "stream",
     "text": [
      "MultinomialNB accuracy: 0.78\n"
     ]
    }
   ],
   "source": [
    "from nltk.classify.scikitlearn import SklearnClassifier\n",
    "from sklearn.naive_bayes import MultinomialNB\n",
    "\n",
    "MNB_classifier = SklearnClassifier(MultinomialNB())\n",
    "MNB_classifier.train(train_set)\n",
    "print(\"MultinomialNB accuracy:\",nltk.classify.accuracy(MNB_classifier, test_set))"
   ],
   "metadata": {
    "collapsed": false,
    "pycharm": {
     "name": "#%%\n"
    }
   }
  },
  {
   "cell_type": "code",
   "execution_count": null,
   "outputs": [],
   "source": [],
   "metadata": {
    "collapsed": false,
    "pycharm": {
     "name": "#%%\n"
    }
   }
  }
 ],
 "metadata": {
  "kernelspec": {
   "display_name": "Python 3",
   "language": "python",
   "name": "python3"
  },
  "language_info": {
   "codemirror_mode": {
    "name": "ipython",
    "version": 2
   },
   "file_extension": ".py",
   "mimetype": "text/x-python",
   "name": "python",
   "nbconvert_exporter": "python",
   "pygments_lexer": "ipython2",
   "version": "2.7.6"
  }
 },
 "nbformat": 4,
 "nbformat_minor": 0
}