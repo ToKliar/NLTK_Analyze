{
 "cells": [
  {
   "cell_type": "markdown",
   "source": [
    "这部分展示了使用NLTK进行文本预处理的流程，文本预处理旨在从文本中提取信息，将非结构化的文本转换为结构化的数据结构\n",
    "信息提取的大致流程：\n",
    "+ 使用句子分割器将原始文本划分为句子\n",
    "+ 使用分词器（词元化方法）将句子划分为词\n",
    "+ 对每个词进行词性标注，打上标签\n",
    "+ 命名实体识别，识别已定义的实体（约定俗成的习语和专有名词）和未定义的实体\n",
    "+ 进行文本中实体间关系的识别，搜索邻近实体对之间的特定模式，建立实体之间的关系图"
   ],
   "metadata": {
    "collapsed": false,
    "pycharm": {
     "name": "#%% md\n"
    }
   }
  },
  {
   "cell_type": "code",
   "execution_count": 1,
   "outputs": [],
   "source": [
    "import nltk\n",
    "def ie_preprocess(document):\n",
    "    sentences = nltk.sent_tokenize(document) # 分句\n",
    "    sentences = [nltk.word_tokenize(sentence) for sentence in sentences] # 分词\n",
    "    sentences = [nltk.pos_tag(sentence) for sentence in sentences] # 词性标注"
   ],
   "metadata": {
    "collapsed": false,
    "pycharm": {
     "name": "#%%\n"
    }
   }
  },
  {
   "cell_type": "code",
   "execution_count": null,
   "outputs": [],
   "source": [],
   "metadata": {
    "collapsed": false,
    "pycharm": {
     "name": "#%%\n"
    }
   }
  }
 ],
 "metadata": {
  "kernelspec": {
   "display_name": "Python 3",
   "language": "python",
   "name": "python3"
  },
  "language_info": {
   "codemirror_mode": {
    "name": "ipython",
    "version": 2
   },
   "file_extension": ".py",
   "mimetype": "text/x-python",
   "name": "python",
   "nbconvert_exporter": "python",
   "pygments_lexer": "ipython2",
   "version": "2.7.6"
  }
 },
 "nbformat": 4,
 "nbformat_minor": 0
}